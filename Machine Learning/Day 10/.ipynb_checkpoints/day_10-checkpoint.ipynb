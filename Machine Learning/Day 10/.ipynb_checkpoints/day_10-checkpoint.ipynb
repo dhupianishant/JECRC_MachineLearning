{
 "cells": [
  {
   "cell_type": "code",
   "execution_count": 1,
   "id": "e82bc146-5d04-461b-85e8-e6528bcccf7b",
   "metadata": {},
   "outputs": [],
   "source": [
    "import pandas as pd"
   ]
  },
  {
   "cell_type": "code",
   "execution_count": 2,
   "id": "f504e693-1c36-42eb-a7c9-294dd04fa7fb",
   "metadata": {},
   "outputs": [],
   "source": [
    "movies = pd.read_csv(r'movies.csv')"
   ]
  },
  {
   "cell_type": "code",
   "execution_count": 3,
   "id": "89ff1d09-d8d6-480c-bdd2-6cc7c4b95e75",
   "metadata": {},
   "outputs": [
    {
     "data": {
      "text/html": [
       "<div>\n",
       "<style scoped>\n",
       "    .dataframe tbody tr th:only-of-type {\n",
       "        vertical-align: middle;\n",
       "    }\n",
       "\n",
       "    .dataframe tbody tr th {\n",
       "        vertical-align: top;\n",
       "    }\n",
       "\n",
       "    .dataframe thead th {\n",
       "        text-align: right;\n",
       "    }\n",
       "</style>\n",
       "<table border=\"1\" class=\"dataframe\">\n",
       "  <thead>\n",
       "    <tr style=\"text-align: right;\">\n",
       "      <th></th>\n",
       "      <th>id</th>\n",
       "      <th>name</th>\n",
       "      <th>industry</th>\n",
       "      <th>genre</th>\n",
       "      <th>language</th>\n",
       "      <th>duration</th>\n",
       "      <th>rating</th>\n",
       "    </tr>\n",
       "  </thead>\n",
       "  <tbody>\n",
       "    <tr>\n",
       "      <th>0</th>\n",
       "      <td>1</td>\n",
       "      <td>Baahubali</td>\n",
       "      <td>Tollywood</td>\n",
       "      <td>Action</td>\n",
       "      <td>Telugu</td>\n",
       "      <td>170</td>\n",
       "      <td>9.5</td>\n",
       "    </tr>\n",
       "    <tr>\n",
       "      <th>1</th>\n",
       "      <td>2</td>\n",
       "      <td>Brahmastra</td>\n",
       "      <td>Bollywood</td>\n",
       "      <td>Mystereous</td>\n",
       "      <td>Hindi</td>\n",
       "      <td>180</td>\n",
       "      <td>5.0</td>\n",
       "    </tr>\n",
       "    <tr>\n",
       "      <th>2</th>\n",
       "      <td>3</td>\n",
       "      <td>Uri - The Surgical Strike</td>\n",
       "      <td>Bollywood</td>\n",
       "      <td>Action</td>\n",
       "      <td>Hindi</td>\n",
       "      <td>120</td>\n",
       "      <td>10.0</td>\n",
       "    </tr>\n",
       "    <tr>\n",
       "      <th>3</th>\n",
       "      <td>4</td>\n",
       "      <td>DDLJ</td>\n",
       "      <td>Bollywood</td>\n",
       "      <td>Romantic</td>\n",
       "      <td>Hindi</td>\n",
       "      <td>150</td>\n",
       "      <td>10.0</td>\n",
       "    </tr>\n",
       "    <tr>\n",
       "      <th>4</th>\n",
       "      <td>5</td>\n",
       "      <td>Avengers - End Game</td>\n",
       "      <td>Hollywood</td>\n",
       "      <td>Action</td>\n",
       "      <td>English</td>\n",
       "      <td>180</td>\n",
       "      <td>9.0</td>\n",
       "    </tr>\n",
       "    <tr>\n",
       "      <th>5</th>\n",
       "      <td>6</td>\n",
       "      <td>Tenet</td>\n",
       "      <td>Hollywood</td>\n",
       "      <td>SciFI</td>\n",
       "      <td>English</td>\n",
       "      <td>150</td>\n",
       "      <td>8.5</td>\n",
       "    </tr>\n",
       "    <tr>\n",
       "      <th>6</th>\n",
       "      <td>7</td>\n",
       "      <td>Major</td>\n",
       "      <td>Bollywood</td>\n",
       "      <td>Action</td>\n",
       "      <td>Hindi</td>\n",
       "      <td>140</td>\n",
       "      <td>8.0</td>\n",
       "    </tr>\n",
       "    <tr>\n",
       "      <th>7</th>\n",
       "      <td>8</td>\n",
       "      <td>Interstellar</td>\n",
       "      <td>Hollywood</td>\n",
       "      <td>SciFi</td>\n",
       "      <td>English</td>\n",
       "      <td>190</td>\n",
       "      <td>7.0</td>\n",
       "    </tr>\n",
       "    <tr>\n",
       "      <th>8</th>\n",
       "      <td>9</td>\n",
       "      <td>Gravity</td>\n",
       "      <td>Hollywood</td>\n",
       "      <td>SciFi</td>\n",
       "      <td>English</td>\n",
       "      <td>130</td>\n",
       "      <td>6.0</td>\n",
       "    </tr>\n",
       "    <tr>\n",
       "      <th>9</th>\n",
       "      <td>10</td>\n",
       "      <td>Titanic</td>\n",
       "      <td>Hollywood</td>\n",
       "      <td>Drama</td>\n",
       "      <td>English</td>\n",
       "      <td>180</td>\n",
       "      <td>9.0</td>\n",
       "    </tr>\n",
       "    <tr>\n",
       "      <th>10</th>\n",
       "      <td>11</td>\n",
       "      <td>Yeh Jawani Hai Deewani</td>\n",
       "      <td>Bollywood</td>\n",
       "      <td>Romantic</td>\n",
       "      <td>Hindi</td>\n",
       "      <td>150</td>\n",
       "      <td>5.0</td>\n",
       "    </tr>\n",
       "    <tr>\n",
       "      <th>11</th>\n",
       "      <td>12</td>\n",
       "      <td>Houseful</td>\n",
       "      <td>Bollywood</td>\n",
       "      <td>Comedy</td>\n",
       "      <td>Hindi</td>\n",
       "      <td>150</td>\n",
       "      <td>6.0</td>\n",
       "    </tr>\n",
       "    <tr>\n",
       "      <th>12</th>\n",
       "      <td>13</td>\n",
       "      <td>The Dictator</td>\n",
       "      <td>Hollywood</td>\n",
       "      <td>Comedy</td>\n",
       "      <td>English</td>\n",
       "      <td>120</td>\n",
       "      <td>7.0</td>\n",
       "    </tr>\n",
       "    <tr>\n",
       "      <th>13</th>\n",
       "      <td>14</td>\n",
       "      <td>Hera Pheri</td>\n",
       "      <td>Bollywood</td>\n",
       "      <td>Comedy</td>\n",
       "      <td>Hindi</td>\n",
       "      <td>140</td>\n",
       "      <td>9.0</td>\n",
       "    </tr>\n",
       "    <tr>\n",
       "      <th>14</th>\n",
       "      <td>15</td>\n",
       "      <td>Sholay</td>\n",
       "      <td>Bollywood</td>\n",
       "      <td>Drama</td>\n",
       "      <td>Hindi</td>\n",
       "      <td>150</td>\n",
       "      <td>8.5</td>\n",
       "    </tr>\n",
       "  </tbody>\n",
       "</table>\n",
       "</div>"
      ],
      "text/plain": [
       "    id                       name   industry       genre language  duration  \\\n",
       "0    1                  Baahubali  Tollywood      Action   Telugu       170   \n",
       "1    2                 Brahmastra  Bollywood  Mystereous    Hindi       180   \n",
       "2    3  Uri - The Surgical Strike  Bollywood      Action    Hindi       120   \n",
       "3    4                       DDLJ  Bollywood    Romantic    Hindi       150   \n",
       "4    5        Avengers - End Game  Hollywood      Action  English       180   \n",
       "5    6                      Tenet  Hollywood       SciFI  English       150   \n",
       "6    7                      Major  Bollywood      Action    Hindi       140   \n",
       "7    8               Interstellar  Hollywood       SciFi  English       190   \n",
       "8    9                    Gravity  Hollywood       SciFi  English       130   \n",
       "9   10                    Titanic  Hollywood       Drama  English       180   \n",
       "10  11     Yeh Jawani Hai Deewani  Bollywood    Romantic    Hindi       150   \n",
       "11  12                   Houseful  Bollywood      Comedy    Hindi       150   \n",
       "12  13               The Dictator  Hollywood      Comedy  English       120   \n",
       "13  14                 Hera Pheri  Bollywood      Comedy    Hindi       140   \n",
       "14  15                     Sholay  Bollywood       Drama    Hindi       150   \n",
       "\n",
       "    rating  \n",
       "0      9.5  \n",
       "1      5.0  \n",
       "2     10.0  \n",
       "3     10.0  \n",
       "4      9.0  \n",
       "5      8.5  \n",
       "6      8.0  \n",
       "7      7.0  \n",
       "8      6.0  \n",
       "9      9.0  \n",
       "10     5.0  \n",
       "11     6.0  \n",
       "12     7.0  \n",
       "13     9.0  \n",
       "14     8.5  "
      ]
     },
     "execution_count": 3,
     "metadata": {},
     "output_type": "execute_result"
    }
   ],
   "source": [
    "movies"
   ]
  },
  {
   "cell_type": "markdown",
   "id": "96908df4-9aff-4a76-9ea0-4ce3da50208a",
   "metadata": {},
   "source": [
    "### Question 1: Fid the longest movie"
   ]
  },
  {
   "cell_type": "code",
   "execution_count": 4,
   "id": "3ed02016-56a3-4805-8faa-1e1d0c0d5f29",
   "metadata": {},
   "outputs": [
    {
     "data": {
      "text/plain": [
       "190"
      ]
     },
     "execution_count": 4,
     "metadata": {},
     "output_type": "execute_result"
    }
   ],
   "source": [
    "movies['duration'].max()"
   ]
  },
  {
   "cell_type": "code",
   "execution_count": 5,
   "id": "24569688-e6d5-481a-b31a-2081cb9b4b34",
   "metadata": {},
   "outputs": [
    {
     "data": {
      "text/plain": [
       "7"
      ]
     },
     "execution_count": 5,
     "metadata": {},
     "output_type": "execute_result"
    }
   ],
   "source": [
    "movies['duration'].argmax()"
   ]
  },
  {
   "cell_type": "code",
   "execution_count": 6,
   "id": "49e76505-010a-4192-b167-68732656e0d6",
   "metadata": {},
   "outputs": [
    {
     "data": {
      "text/plain": [
       "'Interstellar'"
      ]
     },
     "execution_count": 6,
     "metadata": {},
     "output_type": "execute_result"
    }
   ],
   "source": [
    "movies['name'][movies['duration'].argmax()]"
   ]
  },
  {
   "cell_type": "markdown",
   "id": "60ca5dbe-2730-4301-874f-7e875d4f51b2",
   "metadata": {},
   "source": [
    "### Question 2: Number of movies who got 10 rating"
   ]
  },
  {
   "cell_type": "code",
   "execution_count": 7,
   "id": "3c7405da-88f9-45be-bdcc-bf4671e94ee1",
   "metadata": {},
   "outputs": [
    {
     "data": {
      "text/plain": [
       "0     False\n",
       "1     False\n",
       "2      True\n",
       "3      True\n",
       "4     False\n",
       "5     False\n",
       "6     False\n",
       "7     False\n",
       "8     False\n",
       "9     False\n",
       "10    False\n",
       "11    False\n",
       "12    False\n",
       "13    False\n",
       "14    False\n",
       "Name: rating, dtype: bool"
      ]
     },
     "execution_count": 7,
     "metadata": {},
     "output_type": "execute_result"
    }
   ],
   "source": [
    "movies['rating'] == 10"
   ]
  },
  {
   "cell_type": "code",
   "execution_count": 8,
   "id": "02e9725e-7250-4822-ad16-28b63f85d76e",
   "metadata": {},
   "outputs": [
    {
     "data": {
      "text/plain": [
       "2    Uri - The Surgical Strike\n",
       "3                         DDLJ\n",
       "Name: name, dtype: object"
      ]
     },
     "execution_count": 8,
     "metadata": {},
     "output_type": "execute_result"
    }
   ],
   "source": [
    "movies['name'][movies['rating'] == 10]"
   ]
  },
  {
   "cell_type": "code",
   "execution_count": 9,
   "id": "3b140c1c-3057-4cfc-8e33-1168d1f97a72",
   "metadata": {},
   "outputs": [
    {
     "data": {
      "text/plain": [
       "2"
      ]
     },
     "execution_count": 9,
     "metadata": {},
     "output_type": "execute_result"
    }
   ],
   "source": [
    "len(movies['name'][movies['rating'] == 10])"
   ]
  },
  {
   "cell_type": "code",
   "execution_count": 10,
   "id": "ce2a6fce-cfe5-405a-b0f7-9a5adbce6efc",
   "metadata": {},
   "outputs": [
    {
     "data": {
      "text/plain": [
       "2"
      ]
     },
     "execution_count": 10,
     "metadata": {},
     "output_type": "execute_result"
    }
   ],
   "source": [
    "sum(movies['rating'] == 10)"
   ]
  },
  {
   "cell_type": "markdown",
   "id": "df3b750a-3fb0-4c0e-911c-14e28aaad646",
   "metadata": {},
   "source": [
    "### Question 3: How many industries are there"
   ]
  },
  {
   "cell_type": "code",
   "execution_count": 11,
   "id": "bbff7980-6423-4d56-9db5-dcdfe94b152a",
   "metadata": {},
   "outputs": [
    {
     "data": {
      "text/plain": [
       "Bollywood    8\n",
       "Hollywood    6\n",
       "Tollywood    1\n",
       "Name: industry, dtype: int64"
      ]
     },
     "execution_count": 11,
     "metadata": {},
     "output_type": "execute_result"
    }
   ],
   "source": [
    "movies['industry'].value_counts()"
   ]
  },
  {
   "cell_type": "code",
   "execution_count": 12,
   "id": "4e91c201-617b-4887-a83c-c475cc905fe5",
   "metadata": {},
   "outputs": [
    {
     "data": {
      "text/plain": [
       "3"
      ]
     },
     "execution_count": 12,
     "metadata": {},
     "output_type": "execute_result"
    }
   ],
   "source": [
    "movies['industry'].value_counts().count()"
   ]
  },
  {
   "cell_type": "code",
   "execution_count": 13,
   "id": "aed9904d-dbac-4505-9a2d-73a56f3f389f",
   "metadata": {},
   "outputs": [
    {
     "data": {
      "text/plain": [
       "3"
      ]
     },
     "execution_count": 13,
     "metadata": {},
     "output_type": "execute_result"
    }
   ],
   "source": [
    "len(movies['industry'].value_counts())"
   ]
  },
  {
   "cell_type": "code",
   "execution_count": 14,
   "id": "03f26319-55d7-4812-a7bf-845efad72a61",
   "metadata": {},
   "outputs": [
    {
     "data": {
      "text/plain": [
       "3"
      ]
     },
     "execution_count": 14,
     "metadata": {},
     "output_type": "execute_result"
    }
   ],
   "source": [
    "movies['industry'].nunique()"
   ]
  },
  {
   "cell_type": "code",
   "execution_count": 15,
   "id": "f368f2b6-f420-4c35-a4e9-a2bb9960d197",
   "metadata": {},
   "outputs": [
    {
     "data": {
      "text/plain": [
       "array(['Tollywood', 'Bollywood', 'Hollywood'], dtype=object)"
      ]
     },
     "execution_count": 15,
     "metadata": {},
     "output_type": "execute_result"
    }
   ],
   "source": [
    "movies['industry'].unique()"
   ]
  },
  {
   "cell_type": "markdown",
   "id": "78d8071f-00cd-4f08-a851-64be90dc6bf1",
   "metadata": {},
   "source": [
    "### Question 4: Find the least liked comedy movie"
   ]
  },
  {
   "cell_type": "code",
   "execution_count": 16,
   "id": "c3fb9831-e53f-469a-8645-189d6bcc065b",
   "metadata": {},
   "outputs": [
    {
     "data": {
      "text/plain": [
       "0     False\n",
       "1     False\n",
       "2     False\n",
       "3     False\n",
       "4     False\n",
       "5     False\n",
       "6     False\n",
       "7     False\n",
       "8     False\n",
       "9     False\n",
       "10    False\n",
       "11     True\n",
       "12     True\n",
       "13     True\n",
       "14    False\n",
       "Name: genre, dtype: bool"
      ]
     },
     "execution_count": 16,
     "metadata": {},
     "output_type": "execute_result"
    }
   ],
   "source": [
    "movies['genre'] == 'Comedy'"
   ]
  },
  {
   "cell_type": "code",
   "execution_count": 17,
   "id": "54cbb603-4969-4b36-a82f-d83b66ec6ede",
   "metadata": {},
   "outputs": [
    {
     "data": {
      "text/plain": [
       "'Houseful'"
      ]
     },
     "execution_count": 17,
     "metadata": {},
     "output_type": "execute_result"
    }
   ],
   "source": [
    "movies['name'][movies[movies['genre'] == 'Comedy']['rating'].idxmin()]"
   ]
  },
  {
   "cell_type": "markdown",
   "id": "5321ccad-507e-41ca-bd73-6c35201c636c",
   "metadata": {},
   "source": [
    "### Question 5: Longest English movie name"
   ]
  },
  {
   "cell_type": "code",
   "execution_count": 18,
   "id": "d1f4db85-c44b-4e82-b19a-a862b69ae623",
   "metadata": {},
   "outputs": [
    {
     "data": {
      "text/plain": [
       "'Interstellar'"
      ]
     },
     "execution_count": 18,
     "metadata": {},
     "output_type": "execute_result"
    }
   ],
   "source": [
    "movies['name'][movies[movies['language'] == 'English']['duration'].idxmax()]"
   ]
  },
  {
   "cell_type": "markdown",
   "id": "01eeaa16-f9af-4b3c-b184-f10826098cb3",
   "metadata": {},
   "source": [
    "### Question 6: What is the genre of Interstellar "
   ]
  },
  {
   "cell_type": "code",
   "execution_count": 19,
   "id": "b83cbc12-4c51-4e3d-8b7c-43f2ece0b40f",
   "metadata": {},
   "outputs": [
    {
     "data": {
      "text/plain": [
       "7    SciFi\n",
       "Name: genre, dtype: object"
      ]
     },
     "execution_count": 19,
     "metadata": {},
     "output_type": "execute_result"
    }
   ],
   "source": [
    "movies['genre'][movies['name'] == 'Interstellar']"
   ]
  },
  {
   "cell_type": "markdown",
   "id": "be53696a-64b7-4aa2-9565-6974e3a553e3",
   "metadata": {},
   "source": [
    "It gives the output in Seires data type, so we will convert it into numpy array datatype"
   ]
  },
  {
   "cell_type": "code",
   "execution_count": 20,
   "id": "a499c117-9122-4652-8902-b351154c2b07",
   "metadata": {},
   "outputs": [
    {
     "data": {
      "text/plain": [
       "'SciFi'"
      ]
     },
     "execution_count": 20,
     "metadata": {},
     "output_type": "execute_result"
    }
   ],
   "source": [
    "movies['genre'][movies['name'] == 'Interstellar'].values[0]"
   ]
  },
  {
   "cell_type": "code",
   "execution_count": 21,
   "id": "44965048-f26f-4917-bd6b-930b3733cc2b",
   "metadata": {},
   "outputs": [
    {
     "data": {
      "text/plain": [
       "'SciFi'"
      ]
     },
     "execution_count": 21,
     "metadata": {},
     "output_type": "execute_result"
    }
   ],
   "source": [
    "movies['genre'][movies['name'].str.lower() == 'Interstellar'.lower()].values[0]"
   ]
  },
  {
   "cell_type": "code",
   "execution_count": 25,
   "id": "0d3760d7-a819-4fb7-bc4e-98341f97f82a",
   "metadata": {},
   "outputs": [],
   "source": [
    "names = movies['name']"
   ]
  },
  {
   "cell_type": "code",
   "execution_count": 26,
   "id": "89ed3d0b-9e13-46d5-aa85-5049bc6f140a",
   "metadata": {},
   "outputs": [
    {
     "data": {
      "text/plain": [
       "array(['Baahubali', 'Brahmastra', 'Uri - The Surgical Strike', 'DDLJ',\n",
       "       'Avengers - End Game', 'Tenet', 'Major', 'Interstellar', 'Gravity',\n",
       "       'Titanic', 'Yeh Jawani Hai Deewani', 'Houseful', 'The Dictator',\n",
       "       'Hera Pheri', 'Sholay'], dtype=object)"
      ]
     },
     "execution_count": 26,
     "metadata": {},
     "output_type": "execute_result"
    }
   ],
   "source": [
    "names.values"
   ]
  },
  {
   "cell_type": "code",
   "execution_count": 27,
   "id": "6d1e32f0-a19e-4777-9d12-a28bebd9487d",
   "metadata": {
    "collapsed": true,
    "jupyter": {
     "outputs_hidden": true
    },
    "tags": []
   },
   "outputs": [
    {
     "data": {
      "text/plain": [
       "0                     Baahubali\n",
       "1                    Brahmastra\n",
       "2     Uri - the surgical strike\n",
       "3                          Ddlj\n",
       "4           Avengers - end game\n",
       "5                         Tenet\n",
       "6                         Major\n",
       "7                  Interstellar\n",
       "8                       Gravity\n",
       "9                       Titanic\n",
       "10       Yeh jawani hai deewani\n",
       "11                     Houseful\n",
       "12                 The dictator\n",
       "13                   Hera pheri\n",
       "14                       Sholay\n",
       "Name: name, dtype: object"
      ]
     },
     "execution_count": 27,
     "metadata": {},
     "output_type": "execute_result"
    }
   ],
   "source": [
    "names.str.capitalize()"
   ]
  },
  {
   "cell_type": "code",
   "execution_count": 28,
   "id": "6e0a83fd-dfe0-4b4c-bc5a-72b53cd7e9e3",
   "metadata": {
    "collapsed": true,
    "jupyter": {
     "outputs_hidden": true
    },
    "tags": []
   },
   "outputs": [
    {
     "data": {
      "text/plain": [
       "0                     baahubali\n",
       "1                    brahmastra\n",
       "2     uri - the surgical strike\n",
       "3                          ddlj\n",
       "4           avengers - end game\n",
       "5                         tenet\n",
       "6                         major\n",
       "7                  interstellar\n",
       "8                       gravity\n",
       "9                       titanic\n",
       "10       yeh jawani hai deewani\n",
       "11                     houseful\n",
       "12                 the dictator\n",
       "13                   hera pheri\n",
       "14                       sholay\n",
       "Name: name, dtype: object"
      ]
     },
     "execution_count": 28,
     "metadata": {},
     "output_type": "execute_result"
    }
   ],
   "source": [
    "names.str.casefold()"
   ]
  },
  {
   "cell_type": "code",
   "execution_count": 29,
   "id": "ca989339-29c1-42d8-9dbd-8d2c3f1c69fe",
   "metadata": {
    "collapsed": true,
    "jupyter": {
     "outputs_hidden": true
    },
    "tags": []
   },
   "outputs": [
    {
     "data": {
      "text/plain": [
       "0     0\n",
       "1     0\n",
       "2     2\n",
       "3     0\n",
       "4     3\n",
       "5     2\n",
       "6     0\n",
       "7     2\n",
       "8     0\n",
       "9     0\n",
       "10    3\n",
       "11    1\n",
       "12    1\n",
       "13    2\n",
       "14    0\n",
       "Name: name, dtype: int64"
      ]
     },
     "execution_count": 29,
     "metadata": {},
     "output_type": "execute_result"
    }
   ],
   "source": [
    "names.str.count('e')"
   ]
  },
  {
   "cell_type": "code",
   "execution_count": 31,
   "id": "e6f83a79-75f6-4246-8df3-ffae01b053b9",
   "metadata": {
    "collapsed": true,
    "jupyter": {
     "outputs_hidden": true
    },
    "tags": []
   },
   "outputs": [
    {
     "data": {
      "text/plain": [
       "0      True\n",
       "1     False\n",
       "2     False\n",
       "3     False\n",
       "4     False\n",
       "5     False\n",
       "6     False\n",
       "7     False\n",
       "8     False\n",
       "9     False\n",
       "10     True\n",
       "11    False\n",
       "12    False\n",
       "13     True\n",
       "14    False\n",
       "Name: name, dtype: bool"
      ]
     },
     "execution_count": 31,
     "metadata": {},
     "output_type": "execute_result"
    }
   ],
   "source": [
    "names.str.endswith('i')"
   ]
  },
  {
   "cell_type": "code",
   "execution_count": 32,
   "id": "7a831ade-3ced-4c0a-8c6a-9918152e89e5",
   "metadata": {
    "collapsed": true,
    "jupyter": {
     "outputs_hidden": true
    },
    "tags": []
   },
   "outputs": [
    {
     "data": {
      "text/plain": [
       "0    -1\n",
       "1    -1\n",
       "2     8\n",
       "3    -1\n",
       "4     2\n",
       "5     1\n",
       "6    -1\n",
       "7     3\n",
       "8    -1\n",
       "9    -1\n",
       "10    1\n",
       "11    4\n",
       "12    2\n",
       "13    1\n",
       "14   -1\n",
       "Name: name, dtype: int64"
      ]
     },
     "execution_count": 32,
     "metadata": {},
     "output_type": "execute_result"
    }
   ],
   "source": [
    "names.str.find('e')"
   ]
  },
  {
   "cell_type": "code",
   "execution_count": 35,
   "id": "72f6cb55-3c04-4c9b-8614-31568def4526",
   "metadata": {
    "collapsed": true,
    "jupyter": {
     "outputs_hidden": true
    },
    "tags": []
   },
   "outputs": [
    {
     "data": {
      "text/plain": [
       "0     a\n",
       "1     t\n",
       "2     i\n",
       "3     D\n",
       "4     a\n",
       "5     n\n",
       "6     j\n",
       "7     l\n",
       "8     i\n",
       "9     n\n",
       "10    a\n",
       "11    f\n",
       "12    t\n",
       "13    e\n",
       "14    l\n",
       "Name: name, dtype: object"
      ]
     },
     "execution_count": 35,
     "metadata": {},
     "output_type": "execute_result"
    }
   ],
   "source": [
    "names.str.get(-3)"
   ]
  },
  {
   "cell_type": "code",
   "execution_count": 36,
   "id": "bb5c28e4-a85e-4f19-8200-52cc9ee71c79",
   "metadata": {
    "collapsed": true,
    "jupyter": {
     "outputs_hidden": true
    },
    "tags": []
   },
   "outputs": [
    {
     "data": {
      "text/html": [
       "<div>\n",
       "<style scoped>\n",
       "    .dataframe tbody tr th:only-of-type {\n",
       "        vertical-align: middle;\n",
       "    }\n",
       "\n",
       "    .dataframe tbody tr th {\n",
       "        vertical-align: top;\n",
       "    }\n",
       "\n",
       "    .dataframe thead th {\n",
       "        text-align: right;\n",
       "    }\n",
       "</style>\n",
       "<table border=\"1\" class=\"dataframe\">\n",
       "  <thead>\n",
       "    <tr style=\"text-align: right;\">\n",
       "      <th></th>\n",
       "      <th>Avengers - End Game</th>\n",
       "      <th>Baahubali</th>\n",
       "      <th>Brahmastra</th>\n",
       "      <th>DDLJ</th>\n",
       "      <th>Gravity</th>\n",
       "      <th>Hera Pheri</th>\n",
       "      <th>Houseful</th>\n",
       "      <th>Interstellar</th>\n",
       "      <th>Major</th>\n",
       "      <th>Sholay</th>\n",
       "      <th>Tenet</th>\n",
       "      <th>The Dictator</th>\n",
       "      <th>Titanic</th>\n",
       "      <th>Uri - The Surgical Strike</th>\n",
       "      <th>Yeh Jawani Hai Deewani</th>\n",
       "    </tr>\n",
       "  </thead>\n",
       "  <tbody>\n",
       "    <tr>\n",
       "      <th>0</th>\n",
       "      <td>0</td>\n",
       "      <td>1</td>\n",
       "      <td>0</td>\n",
       "      <td>0</td>\n",
       "      <td>0</td>\n",
       "      <td>0</td>\n",
       "      <td>0</td>\n",
       "      <td>0</td>\n",
       "      <td>0</td>\n",
       "      <td>0</td>\n",
       "      <td>0</td>\n",
       "      <td>0</td>\n",
       "      <td>0</td>\n",
       "      <td>0</td>\n",
       "      <td>0</td>\n",
       "    </tr>\n",
       "    <tr>\n",
       "      <th>1</th>\n",
       "      <td>0</td>\n",
       "      <td>0</td>\n",
       "      <td>1</td>\n",
       "      <td>0</td>\n",
       "      <td>0</td>\n",
       "      <td>0</td>\n",
       "      <td>0</td>\n",
       "      <td>0</td>\n",
       "      <td>0</td>\n",
       "      <td>0</td>\n",
       "      <td>0</td>\n",
       "      <td>0</td>\n",
       "      <td>0</td>\n",
       "      <td>0</td>\n",
       "      <td>0</td>\n",
       "    </tr>\n",
       "    <tr>\n",
       "      <th>2</th>\n",
       "      <td>0</td>\n",
       "      <td>0</td>\n",
       "      <td>0</td>\n",
       "      <td>0</td>\n",
       "      <td>0</td>\n",
       "      <td>0</td>\n",
       "      <td>0</td>\n",
       "      <td>0</td>\n",
       "      <td>0</td>\n",
       "      <td>0</td>\n",
       "      <td>0</td>\n",
       "      <td>0</td>\n",
       "      <td>0</td>\n",
       "      <td>1</td>\n",
       "      <td>0</td>\n",
       "    </tr>\n",
       "    <tr>\n",
       "      <th>3</th>\n",
       "      <td>0</td>\n",
       "      <td>0</td>\n",
       "      <td>0</td>\n",
       "      <td>1</td>\n",
       "      <td>0</td>\n",
       "      <td>0</td>\n",
       "      <td>0</td>\n",
       "      <td>0</td>\n",
       "      <td>0</td>\n",
       "      <td>0</td>\n",
       "      <td>0</td>\n",
       "      <td>0</td>\n",
       "      <td>0</td>\n",
       "      <td>0</td>\n",
       "      <td>0</td>\n",
       "    </tr>\n",
       "    <tr>\n",
       "      <th>4</th>\n",
       "      <td>1</td>\n",
       "      <td>0</td>\n",
       "      <td>0</td>\n",
       "      <td>0</td>\n",
       "      <td>0</td>\n",
       "      <td>0</td>\n",
       "      <td>0</td>\n",
       "      <td>0</td>\n",
       "      <td>0</td>\n",
       "      <td>0</td>\n",
       "      <td>0</td>\n",
       "      <td>0</td>\n",
       "      <td>0</td>\n",
       "      <td>0</td>\n",
       "      <td>0</td>\n",
       "    </tr>\n",
       "    <tr>\n",
       "      <th>5</th>\n",
       "      <td>0</td>\n",
       "      <td>0</td>\n",
       "      <td>0</td>\n",
       "      <td>0</td>\n",
       "      <td>0</td>\n",
       "      <td>0</td>\n",
       "      <td>0</td>\n",
       "      <td>0</td>\n",
       "      <td>0</td>\n",
       "      <td>0</td>\n",
       "      <td>1</td>\n",
       "      <td>0</td>\n",
       "      <td>0</td>\n",
       "      <td>0</td>\n",
       "      <td>0</td>\n",
       "    </tr>\n",
       "    <tr>\n",
       "      <th>6</th>\n",
       "      <td>0</td>\n",
       "      <td>0</td>\n",
       "      <td>0</td>\n",
       "      <td>0</td>\n",
       "      <td>0</td>\n",
       "      <td>0</td>\n",
       "      <td>0</td>\n",
       "      <td>0</td>\n",
       "      <td>1</td>\n",
       "      <td>0</td>\n",
       "      <td>0</td>\n",
       "      <td>0</td>\n",
       "      <td>0</td>\n",
       "      <td>0</td>\n",
       "      <td>0</td>\n",
       "    </tr>\n",
       "    <tr>\n",
       "      <th>7</th>\n",
       "      <td>0</td>\n",
       "      <td>0</td>\n",
       "      <td>0</td>\n",
       "      <td>0</td>\n",
       "      <td>0</td>\n",
       "      <td>0</td>\n",
       "      <td>0</td>\n",
       "      <td>1</td>\n",
       "      <td>0</td>\n",
       "      <td>0</td>\n",
       "      <td>0</td>\n",
       "      <td>0</td>\n",
       "      <td>0</td>\n",
       "      <td>0</td>\n",
       "      <td>0</td>\n",
       "    </tr>\n",
       "    <tr>\n",
       "      <th>8</th>\n",
       "      <td>0</td>\n",
       "      <td>0</td>\n",
       "      <td>0</td>\n",
       "      <td>0</td>\n",
       "      <td>1</td>\n",
       "      <td>0</td>\n",
       "      <td>0</td>\n",
       "      <td>0</td>\n",
       "      <td>0</td>\n",
       "      <td>0</td>\n",
       "      <td>0</td>\n",
       "      <td>0</td>\n",
       "      <td>0</td>\n",
       "      <td>0</td>\n",
       "      <td>0</td>\n",
       "    </tr>\n",
       "    <tr>\n",
       "      <th>9</th>\n",
       "      <td>0</td>\n",
       "      <td>0</td>\n",
       "      <td>0</td>\n",
       "      <td>0</td>\n",
       "      <td>0</td>\n",
       "      <td>0</td>\n",
       "      <td>0</td>\n",
       "      <td>0</td>\n",
       "      <td>0</td>\n",
       "      <td>0</td>\n",
       "      <td>0</td>\n",
       "      <td>0</td>\n",
       "      <td>1</td>\n",
       "      <td>0</td>\n",
       "      <td>0</td>\n",
       "    </tr>\n",
       "    <tr>\n",
       "      <th>10</th>\n",
       "      <td>0</td>\n",
       "      <td>0</td>\n",
       "      <td>0</td>\n",
       "      <td>0</td>\n",
       "      <td>0</td>\n",
       "      <td>0</td>\n",
       "      <td>0</td>\n",
       "      <td>0</td>\n",
       "      <td>0</td>\n",
       "      <td>0</td>\n",
       "      <td>0</td>\n",
       "      <td>0</td>\n",
       "      <td>0</td>\n",
       "      <td>0</td>\n",
       "      <td>1</td>\n",
       "    </tr>\n",
       "    <tr>\n",
       "      <th>11</th>\n",
       "      <td>0</td>\n",
       "      <td>0</td>\n",
       "      <td>0</td>\n",
       "      <td>0</td>\n",
       "      <td>0</td>\n",
       "      <td>0</td>\n",
       "      <td>1</td>\n",
       "      <td>0</td>\n",
       "      <td>0</td>\n",
       "      <td>0</td>\n",
       "      <td>0</td>\n",
       "      <td>0</td>\n",
       "      <td>0</td>\n",
       "      <td>0</td>\n",
       "      <td>0</td>\n",
       "    </tr>\n",
       "    <tr>\n",
       "      <th>12</th>\n",
       "      <td>0</td>\n",
       "      <td>0</td>\n",
       "      <td>0</td>\n",
       "      <td>0</td>\n",
       "      <td>0</td>\n",
       "      <td>0</td>\n",
       "      <td>0</td>\n",
       "      <td>0</td>\n",
       "      <td>0</td>\n",
       "      <td>0</td>\n",
       "      <td>0</td>\n",
       "      <td>1</td>\n",
       "      <td>0</td>\n",
       "      <td>0</td>\n",
       "      <td>0</td>\n",
       "    </tr>\n",
       "    <tr>\n",
       "      <th>13</th>\n",
       "      <td>0</td>\n",
       "      <td>0</td>\n",
       "      <td>0</td>\n",
       "      <td>0</td>\n",
       "      <td>0</td>\n",
       "      <td>1</td>\n",
       "      <td>0</td>\n",
       "      <td>0</td>\n",
       "      <td>0</td>\n",
       "      <td>0</td>\n",
       "      <td>0</td>\n",
       "      <td>0</td>\n",
       "      <td>0</td>\n",
       "      <td>0</td>\n",
       "      <td>0</td>\n",
       "    </tr>\n",
       "    <tr>\n",
       "      <th>14</th>\n",
       "      <td>0</td>\n",
       "      <td>0</td>\n",
       "      <td>0</td>\n",
       "      <td>0</td>\n",
       "      <td>0</td>\n",
       "      <td>0</td>\n",
       "      <td>0</td>\n",
       "      <td>0</td>\n",
       "      <td>0</td>\n",
       "      <td>1</td>\n",
       "      <td>0</td>\n",
       "      <td>0</td>\n",
       "      <td>0</td>\n",
       "      <td>0</td>\n",
       "      <td>0</td>\n",
       "    </tr>\n",
       "  </tbody>\n",
       "</table>\n",
       "</div>"
      ],
      "text/plain": [
       "    Avengers - End Game  Baahubali  Brahmastra  DDLJ  Gravity  Hera Pheri  \\\n",
       "0                     0          1           0     0        0           0   \n",
       "1                     0          0           1     0        0           0   \n",
       "2                     0          0           0     0        0           0   \n",
       "3                     0          0           0     1        0           0   \n",
       "4                     1          0           0     0        0           0   \n",
       "5                     0          0           0     0        0           0   \n",
       "6                     0          0           0     0        0           0   \n",
       "7                     0          0           0     0        0           0   \n",
       "8                     0          0           0     0        1           0   \n",
       "9                     0          0           0     0        0           0   \n",
       "10                    0          0           0     0        0           0   \n",
       "11                    0          0           0     0        0           0   \n",
       "12                    0          0           0     0        0           0   \n",
       "13                    0          0           0     0        0           1   \n",
       "14                    0          0           0     0        0           0   \n",
       "\n",
       "    Houseful  Interstellar  Major  Sholay  Tenet  The Dictator  Titanic  \\\n",
       "0          0             0      0       0      0             0        0   \n",
       "1          0             0      0       0      0             0        0   \n",
       "2          0             0      0       0      0             0        0   \n",
       "3          0             0      0       0      0             0        0   \n",
       "4          0             0      0       0      0             0        0   \n",
       "5          0             0      0       0      1             0        0   \n",
       "6          0             0      1       0      0             0        0   \n",
       "7          0             1      0       0      0             0        0   \n",
       "8          0             0      0       0      0             0        0   \n",
       "9          0             0      0       0      0             0        1   \n",
       "10         0             0      0       0      0             0        0   \n",
       "11         1             0      0       0      0             0        0   \n",
       "12         0             0      0       0      0             1        0   \n",
       "13         0             0      0       0      0             0        0   \n",
       "14         0             0      0       1      0             0        0   \n",
       "\n",
       "    Uri - The Surgical Strike  Yeh Jawani Hai Deewani  \n",
       "0                           0                       0  \n",
       "1                           0                       0  \n",
       "2                           1                       0  \n",
       "3                           0                       0  \n",
       "4                           0                       0  \n",
       "5                           0                       0  \n",
       "6                           0                       0  \n",
       "7                           0                       0  \n",
       "8                           0                       0  \n",
       "9                           0                       0  \n",
       "10                          0                       1  \n",
       "11                          0                       0  \n",
       "12                          0                       0  \n",
       "13                          0                       0  \n",
       "14                          0                       0  "
      ]
     },
     "execution_count": 36,
     "metadata": {},
     "output_type": "execute_result"
    }
   ],
   "source": [
    "names.str.get_dummies()"
   ]
  },
  {
   "cell_type": "code",
   "execution_count": 37,
   "id": "e425151d-4b49-4a2c-96cb-bc3f1ec58827",
   "metadata": {
    "collapsed": true,
    "jupyter": {
     "outputs_hidden": true
    },
    "tags": []
   },
   "outputs": [
    {
     "data": {
      "text/html": [
       "<div>\n",
       "<style scoped>\n",
       "    .dataframe tbody tr th:only-of-type {\n",
       "        vertical-align: middle;\n",
       "    }\n",
       "\n",
       "    .dataframe tbody tr th {\n",
       "        vertical-align: top;\n",
       "    }\n",
       "\n",
       "    .dataframe thead th {\n",
       "        text-align: right;\n",
       "    }\n",
       "</style>\n",
       "<table border=\"1\" class=\"dataframe\">\n",
       "  <thead>\n",
       "    <tr style=\"text-align: right;\">\n",
       "      <th></th>\n",
       "      <th>Action</th>\n",
       "      <th>Comedy</th>\n",
       "      <th>Drama</th>\n",
       "      <th>Mystereous</th>\n",
       "      <th>Romantic</th>\n",
       "      <th>SciFI</th>\n",
       "      <th>SciFi</th>\n",
       "    </tr>\n",
       "  </thead>\n",
       "  <tbody>\n",
       "    <tr>\n",
       "      <th>0</th>\n",
       "      <td>1</td>\n",
       "      <td>0</td>\n",
       "      <td>0</td>\n",
       "      <td>0</td>\n",
       "      <td>0</td>\n",
       "      <td>0</td>\n",
       "      <td>0</td>\n",
       "    </tr>\n",
       "    <tr>\n",
       "      <th>1</th>\n",
       "      <td>0</td>\n",
       "      <td>0</td>\n",
       "      <td>0</td>\n",
       "      <td>1</td>\n",
       "      <td>0</td>\n",
       "      <td>0</td>\n",
       "      <td>0</td>\n",
       "    </tr>\n",
       "    <tr>\n",
       "      <th>2</th>\n",
       "      <td>1</td>\n",
       "      <td>0</td>\n",
       "      <td>0</td>\n",
       "      <td>0</td>\n",
       "      <td>0</td>\n",
       "      <td>0</td>\n",
       "      <td>0</td>\n",
       "    </tr>\n",
       "    <tr>\n",
       "      <th>3</th>\n",
       "      <td>0</td>\n",
       "      <td>0</td>\n",
       "      <td>0</td>\n",
       "      <td>0</td>\n",
       "      <td>1</td>\n",
       "      <td>0</td>\n",
       "      <td>0</td>\n",
       "    </tr>\n",
       "    <tr>\n",
       "      <th>4</th>\n",
       "      <td>1</td>\n",
       "      <td>0</td>\n",
       "      <td>0</td>\n",
       "      <td>0</td>\n",
       "      <td>0</td>\n",
       "      <td>0</td>\n",
       "      <td>0</td>\n",
       "    </tr>\n",
       "    <tr>\n",
       "      <th>5</th>\n",
       "      <td>0</td>\n",
       "      <td>0</td>\n",
       "      <td>0</td>\n",
       "      <td>0</td>\n",
       "      <td>0</td>\n",
       "      <td>1</td>\n",
       "      <td>0</td>\n",
       "    </tr>\n",
       "    <tr>\n",
       "      <th>6</th>\n",
       "      <td>1</td>\n",
       "      <td>0</td>\n",
       "      <td>0</td>\n",
       "      <td>0</td>\n",
       "      <td>0</td>\n",
       "      <td>0</td>\n",
       "      <td>0</td>\n",
       "    </tr>\n",
       "    <tr>\n",
       "      <th>7</th>\n",
       "      <td>0</td>\n",
       "      <td>0</td>\n",
       "      <td>0</td>\n",
       "      <td>0</td>\n",
       "      <td>0</td>\n",
       "      <td>0</td>\n",
       "      <td>1</td>\n",
       "    </tr>\n",
       "    <tr>\n",
       "      <th>8</th>\n",
       "      <td>0</td>\n",
       "      <td>0</td>\n",
       "      <td>0</td>\n",
       "      <td>0</td>\n",
       "      <td>0</td>\n",
       "      <td>0</td>\n",
       "      <td>1</td>\n",
       "    </tr>\n",
       "    <tr>\n",
       "      <th>9</th>\n",
       "      <td>0</td>\n",
       "      <td>0</td>\n",
       "      <td>1</td>\n",
       "      <td>0</td>\n",
       "      <td>0</td>\n",
       "      <td>0</td>\n",
       "      <td>0</td>\n",
       "    </tr>\n",
       "    <tr>\n",
       "      <th>10</th>\n",
       "      <td>0</td>\n",
       "      <td>0</td>\n",
       "      <td>0</td>\n",
       "      <td>0</td>\n",
       "      <td>1</td>\n",
       "      <td>0</td>\n",
       "      <td>0</td>\n",
       "    </tr>\n",
       "    <tr>\n",
       "      <th>11</th>\n",
       "      <td>0</td>\n",
       "      <td>1</td>\n",
       "      <td>0</td>\n",
       "      <td>0</td>\n",
       "      <td>0</td>\n",
       "      <td>0</td>\n",
       "      <td>0</td>\n",
       "    </tr>\n",
       "    <tr>\n",
       "      <th>12</th>\n",
       "      <td>0</td>\n",
       "      <td>1</td>\n",
       "      <td>0</td>\n",
       "      <td>0</td>\n",
       "      <td>0</td>\n",
       "      <td>0</td>\n",
       "      <td>0</td>\n",
       "    </tr>\n",
       "    <tr>\n",
       "      <th>13</th>\n",
       "      <td>0</td>\n",
       "      <td>1</td>\n",
       "      <td>0</td>\n",
       "      <td>0</td>\n",
       "      <td>0</td>\n",
       "      <td>0</td>\n",
       "      <td>0</td>\n",
       "    </tr>\n",
       "    <tr>\n",
       "      <th>14</th>\n",
       "      <td>0</td>\n",
       "      <td>0</td>\n",
       "      <td>1</td>\n",
       "      <td>0</td>\n",
       "      <td>0</td>\n",
       "      <td>0</td>\n",
       "      <td>0</td>\n",
       "    </tr>\n",
       "  </tbody>\n",
       "</table>\n",
       "</div>"
      ],
      "text/plain": [
       "    Action  Comedy  Drama  Mystereous  Romantic  SciFI  SciFi\n",
       "0        1       0      0           0         0      0      0\n",
       "1        0       0      0           1         0      0      0\n",
       "2        1       0      0           0         0      0      0\n",
       "3        0       0      0           0         1      0      0\n",
       "4        1       0      0           0         0      0      0\n",
       "5        0       0      0           0         0      1      0\n",
       "6        1       0      0           0         0      0      0\n",
       "7        0       0      0           0         0      0      1\n",
       "8        0       0      0           0         0      0      1\n",
       "9        0       0      1           0         0      0      0\n",
       "10       0       0      0           0         1      0      0\n",
       "11       0       1      0           0         0      0      0\n",
       "12       0       1      0           0         0      0      0\n",
       "13       0       1      0           0         0      0      0\n",
       "14       0       0      1           0         0      0      0"
      ]
     },
     "execution_count": 37,
     "metadata": {},
     "output_type": "execute_result"
    }
   ],
   "source": [
    "movies['genre'].str.get_dummies()"
   ]
  },
  {
   "cell_type": "code",
   "execution_count": 41,
   "id": "0e8d74cf-90e5-4f1d-b142-9d447926f696",
   "metadata": {},
   "outputs": [],
   "source": [
    "#names.str.index('e')"
   ]
  },
  {
   "cell_type": "code",
   "execution_count": 42,
   "id": "a89cf95b-ba4b-454c-8c42-0e7c4622fb4b",
   "metadata": {
    "collapsed": true,
    "jupyter": {
     "outputs_hidden": true
    },
    "tags": []
   },
   "outputs": [
    {
     "data": {
      "text/plain": [
       "0                                     B.a.a.h.u.b.a.l.i\n",
       "1                                   B.r.a.h.m.a.s.t.r.a\n",
       "2     U.r.i. .-. .T.h.e. .S.u.r.g.i.c.a.l. .S.t.r.i.k.e\n",
       "3                                               D.D.L.J\n",
       "4                 A.v.e.n.g.e.r.s. .-. .E.n.d. .G.a.m.e\n",
       "5                                             T.e.n.e.t\n",
       "6                                             M.a.j.o.r\n",
       "7                               I.n.t.e.r.s.t.e.l.l.a.r\n",
       "8                                         G.r.a.v.i.t.y\n",
       "9                                         T.i.t.a.n.i.c\n",
       "10          Y.e.h. .J.a.w.a.n.i. .H.a.i. .D.e.e.w.a.n.i\n",
       "11                                      H.o.u.s.e.f.u.l\n",
       "12                              T.h.e. .D.i.c.t.a.t.o.r\n",
       "13                                  H.e.r.a. .P.h.e.r.i\n",
       "14                                          S.h.o.l.a.y\n",
       "Name: name, dtype: object"
      ]
     },
     "execution_count": 42,
     "metadata": {},
     "output_type": "execute_result"
    }
   ],
   "source": [
    "names.str.join('.')"
   ]
  },
  {
   "cell_type": "code",
   "execution_count": 46,
   "id": "701a9f3a-7f0b-4447-b935-ca9e74955f22",
   "metadata": {
    "collapsed": true,
    "jupyter": {
     "outputs_hidden": true
    },
    "tags": []
   },
   "outputs": [
    {
     "data": {
      "text/plain": [
       "0                              Baahubali\n",
       "1                             Brahmastra\n",
       "2      Uri - Th--+-- Surgical Strik--+--\n",
       "3                                   DDLJ\n",
       "4        Av--+--ng--+--rs - End Gam--+--\n",
       "5                          T--+--n--+--t\n",
       "6                                  Major\n",
       "7                   Int--+--rst--+--llar\n",
       "8                                Gravity\n",
       "9                                Titanic\n",
       "10    Y--+--h Jawani Hai D--+----+--wani\n",
       "11                          Hous--+--ful\n",
       "12                      Th--+-- Dictator\n",
       "13                    H--+--ra Ph--+--ri\n",
       "14                                Sholay\n",
       "Name: name, dtype: object"
      ]
     },
     "execution_count": 46,
     "metadata": {},
     "output_type": "execute_result"
    }
   ],
   "source": [
    "names.str.split('e').str.join('--+--')"
   ]
  },
  {
   "cell_type": "code",
   "execution_count": 47,
   "id": "182fb7a8-92ad-480d-8382-2f15cbf656eb",
   "metadata": {
    "collapsed": true,
    "jupyter": {
     "outputs_hidden": true
    },
    "tags": []
   },
   "outputs": [
    {
     "data": {
      "text/plain": [
       "0                     Baahubali\n",
       "1                    Brahmastra\n",
       "2     Uri - The Surgical Strike\n",
       "3                          DDLJ\n",
       "4           Avengers - End Game\n",
       "5                         Tenet\n",
       "6                         Major\n",
       "7                  Interstellar\n",
       "8                       Gravity\n",
       "9                       Titanic\n",
       "10       Yeh Jawani Hai Deewani\n",
       "11                     Houseful\n",
       "12                 The Dictator\n",
       "13                   Hera Pheri\n",
       "14                       Sholay\n",
       "Name: name, dtype: object"
      ]
     },
     "execution_count": 47,
     "metadata": {},
     "output_type": "execute_result"
    }
   ],
   "source": [
    "names.str.strip()"
   ]
  },
  {
   "cell_type": "code",
   "execution_count": 50,
   "id": "fff2e11a-3c70-4105-bb09-947b4974c0f2",
   "metadata": {
    "tags": []
   },
   "outputs": [
    {
     "data": {
      "text/plain": [
       "'SciFi'"
      ]
     },
     "execution_count": 50,
     "metadata": {},
     "output_type": "execute_result"
    }
   ],
   "source": [
    "movies['genre'][movies['name'].str.strip().str.lower() == 'Interstellar'.lower()].values[0]"
   ]
  },
  {
   "cell_type": "markdown",
   "id": "2dd4667d-7292-45d6-937f-f2514f9941c4",
   "metadata": {},
   "source": [
    "### Question 7: What is the average duration of each genre"
   ]
  },
  {
   "cell_type": "code",
   "execution_count": 51,
   "id": "01fd37a3-66a1-446c-8bfd-1288ca2e5fa1",
   "metadata": {
    "collapsed": true,
    "jupyter": {
     "outputs_hidden": true
    },
    "tags": []
   },
   "outputs": [
    {
     "data": {
      "text/plain": [
       "array(['Action', 'Mystereous', 'Romantic', 'SciFI', 'SciFi', 'Drama',\n",
       "       'Comedy'], dtype=object)"
      ]
     },
     "execution_count": 51,
     "metadata": {},
     "output_type": "execute_result"
    }
   ],
   "source": [
    "movies['genre'].unique()"
   ]
  },
  {
   "cell_type": "code",
   "execution_count": 52,
   "id": "2fd1a5d3-a2cc-4d3f-94ad-1ff51cd8850f",
   "metadata": {
    "collapsed": true,
    "jupyter": {
     "outputs_hidden": true
    },
    "tags": []
   },
   "outputs": [
    {
     "data": {
      "text/plain": [
       "7"
      ]
     },
     "execution_count": 52,
     "metadata": {},
     "output_type": "execute_result"
    }
   ],
   "source": [
    "movies['genre'].nunique()"
   ]
  },
  {
   "cell_type": "code",
   "execution_count": 53,
   "id": "440894ec-6921-4530-b235-0a641538fe4f",
   "metadata": {
    "collapsed": true,
    "jupyter": {
     "outputs_hidden": true
    },
    "tags": []
   },
   "outputs": [
    {
     "data": {
      "text/plain": [
       "Action        4\n",
       "Comedy        3\n",
       "Romantic      2\n",
       "SciFi         2\n",
       "Drama         2\n",
       "Mystereous    1\n",
       "SciFI         1\n",
       "Name: genre, dtype: int64"
      ]
     },
     "execution_count": 53,
     "metadata": {},
     "output_type": "execute_result"
    }
   ],
   "source": [
    "movies['genre'].value_counts()"
   ]
  },
  {
   "cell_type": "code",
   "execution_count": 55,
   "id": "79aa6a7b-3ec2-48bc-ae42-5b104bdc2517",
   "metadata": {
    "collapsed": true,
    "jupyter": {
     "outputs_hidden": true
    },
    "tags": []
   },
   "outputs": [
    {
     "name": "stdout",
     "output_type": "stream",
     "text": [
      "Action\n",
      "Mystereous\n",
      "Romantic\n",
      "SciFI\n",
      "SciFi\n",
      "Drama\n",
      "Comedy\n"
     ]
    }
   ],
   "source": [
    "for genre in movies['genre'].unique():\n",
    "    print(genre)"
   ]
  },
  {
   "cell_type": "code",
   "execution_count": 56,
   "id": "a5674cf1-4a81-4cfa-9d02-fc7a7fffa4cc",
   "metadata": {
    "collapsed": true,
    "jupyter": {
     "outputs_hidden": true
    },
    "tags": []
   },
   "outputs": [
    {
     "name": "stdout",
     "output_type": "stream",
     "text": [
      "Action 152.5\n",
      "Mystereous 180.0\n",
      "Romantic 150.0\n",
      "SciFI 150.0\n",
      "SciFi 160.0\n",
      "Drama 165.0\n",
      "Comedy 136.66666666666666\n"
     ]
    }
   ],
   "source": [
    "for genre in movies['genre'].unique():\n",
    "    print(genre, movies[movies['genre'] == genre]['duration'].mean())"
   ]
  },
  {
   "cell_type": "code",
   "execution_count": 57,
   "id": "a97a7fc2-8570-46fb-8eb2-c4419cc3c581",
   "metadata": {
    "collapsed": true,
    "jupyter": {
     "outputs_hidden": true
    },
    "tags": []
   },
   "outputs": [
    {
     "data": {
      "text/plain": [
       "genre\n",
       "Action        152.500000\n",
       "Comedy        136.666667\n",
       "Drama         165.000000\n",
       "Mystereous    180.000000\n",
       "Romantic      150.000000\n",
       "SciFI         150.000000\n",
       "SciFi         160.000000\n",
       "Name: duration, dtype: float64"
      ]
     },
     "execution_count": 57,
     "metadata": {},
     "output_type": "execute_result"
    }
   ],
   "source": [
    "movies.groupby('genre')['duration'].mean()"
   ]
  },
  {
   "cell_type": "code",
   "execution_count": 58,
   "id": "3d4ee45d-d0dc-432d-9904-0bc9c0f0f5ac",
   "metadata": {},
   "outputs": [
    {
     "data": {
      "text/plain": [
       "genre       industry \n",
       "Action      Bollywood    130.0\n",
       "            Hollywood    180.0\n",
       "            Tollywood    170.0\n",
       "Comedy      Bollywood    145.0\n",
       "            Hollywood    120.0\n",
       "Drama       Bollywood    150.0\n",
       "            Hollywood    180.0\n",
       "Mystereous  Bollywood    180.0\n",
       "Romantic    Bollywood    150.0\n",
       "SciFI       Hollywood    150.0\n",
       "SciFi       Hollywood    160.0\n",
       "Name: duration, dtype: float64"
      ]
     },
     "execution_count": 58,
     "metadata": {},
     "output_type": "execute_result"
    }
   ],
   "source": [
    "movies.groupby(['genre', 'industry'])['duration'].mean()"
   ]
  },
  {
   "cell_type": "code",
   "execution_count": 59,
   "id": "22ae335a-82d7-4266-8694-7fb59cd80cd7",
   "metadata": {},
   "outputs": [
    {
     "data": {
      "text/plain": [
       "industry   genre     \n",
       "Bollywood  Action        130.0\n",
       "           Comedy        145.0\n",
       "           Drama         150.0\n",
       "           Mystereous    180.0\n",
       "           Romantic      150.0\n",
       "Hollywood  Action        180.0\n",
       "           Comedy        120.0\n",
       "           Drama         180.0\n",
       "           SciFI         150.0\n",
       "           SciFi         160.0\n",
       "Tollywood  Action        170.0\n",
       "Name: duration, dtype: float64"
      ]
     },
     "execution_count": 59,
     "metadata": {},
     "output_type": "execute_result"
    }
   ],
   "source": [
    "movies.groupby(['industry', 'genre'])['duration'].mean()"
   ]
  },
  {
   "cell_type": "code",
   "execution_count": null,
   "id": "521c349f-56b0-4bf5-9efd-2bcc5f004573",
   "metadata": {},
   "outputs": [],
   "source": []
  }
 ],
 "metadata": {
  "kernelspec": {
   "display_name": "Python 3 (ipykernel)",
   "language": "python",
   "name": "python3"
  },
  "language_info": {
   "codemirror_mode": {
    "name": "ipython",
    "version": 3
   },
   "file_extension": ".py",
   "mimetype": "text/x-python",
   "name": "python",
   "nbconvert_exporter": "python",
   "pygments_lexer": "ipython3",
   "version": "3.9.12"
  }
 },
 "nbformat": 4,
 "nbformat_minor": 5
}
