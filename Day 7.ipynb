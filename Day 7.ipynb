{
 "cells": [
  {
   "cell_type": "code",
   "execution_count": 1,
   "id": "089e3680-56cd-4af9-ab63-6e8f6a3c181c",
   "metadata": {},
   "outputs": [
    {
     "data": {
      "text/plain": [
       "7"
      ]
     },
     "execution_count": 1,
     "metadata": {},
     "output_type": "execute_result"
    }
   ],
   "source": [
    "3+4"
   ]
  },
  {
   "cell_type": "code",
   "execution_count": 2,
   "id": "a69d846e-9790-4a9c-bada-7f6eff71bb21",
   "metadata": {},
   "outputs": [
    {
     "name": "stdout",
     "output_type": "stream",
     "text": [
      "Welcome to Machine Learning\n"
     ]
    }
   ],
   "source": [
    "print(\"Welcome to Machine Learning\")"
   ]
  },
  {
   "cell_type": "markdown",
   "id": "f5047b7c-dc1e-4631-9a33-bc6c117d50ac",
   "metadata": {},
   "source": [
    "# 1st Heading"
   ]
  },
  {
   "cell_type": "markdown",
   "id": "959aec10-9913-4652-82f4-0331c0304eed",
   "metadata": {
    "tags": []
   },
   "source": [
    "# 2nd Heading"
   ]
  },
  {
   "cell_type": "markdown",
   "id": "32b8923d-f2da-46f0-b3b6-e38650e47d90",
   "metadata": {},
   "source": [
    "* Hello bhai kaisa hai\n",
    "* Badiya hu bhai tu bta"
   ]
  },
  {
   "cell_type": "markdown",
   "id": "a615374a-8df5-4a64-9293-b16ba324f5f3",
   "metadata": {},
   "source": [
    "1. First Point\n",
    "2. Second Point"
   ]
  },
  {
   "cell_type": "code",
   "execution_count": 3,
   "id": "0026599a-0b79-436a-9bbc-07faa1d5c221",
   "metadata": {},
   "outputs": [],
   "source": [
    "import os"
   ]
  },
  {
   "cell_type": "code",
   "execution_count": 4,
   "id": "9fe41cad-9f32-47dd-bebd-dffe481b7e10",
   "metadata": {},
   "outputs": [
    {
     "data": {
      "text/plain": [
       "'C:\\\\Users\\\\nisha\\\\Desktop\\\\ML Training'"
      ]
     },
     "execution_count": 4,
     "metadata": {},
     "output_type": "execute_result"
    }
   ],
   "source": [
    "os.getcwd()"
   ]
  },
  {
   "cell_type": "code",
   "execution_count": 5,
   "id": "d9395671-b505-4692-a0b4-ea7bfcc3ccd8",
   "metadata": {},
   "outputs": [],
   "source": [
    "os.mkdir('Empty_Folder')"
   ]
  },
  {
   "cell_type": "markdown",
   "id": "671a2741-7ce0-44fd-aa09-3bf2793900bb",
   "metadata": {},
   "source": [
    "# Random"
   ]
  },
  {
   "cell_type": "code",
   "execution_count": 6,
   "id": "dbe41a38-e6b2-4987-bad1-3f6719f94b60",
   "metadata": {},
   "outputs": [
    {
     "ename": "NameError",
     "evalue": "name 'random' is not defined",
     "output_type": "error",
     "traceback": [
      "\u001b[1;31m---------------------------------------------------------------------------\u001b[0m",
      "\u001b[1;31mNameError\u001b[0m                                 Traceback (most recent call last)",
      "Input \u001b[1;32mIn [6]\u001b[0m, in \u001b[0;36m<cell line: 2>\u001b[1;34m()\u001b[0m\n\u001b[0;32m      1\u001b[0m m \u001b[38;5;241m=\u001b[39m [\u001b[38;5;124m'\u001b[39m\u001b[38;5;124mNishant\u001b[39m\u001b[38;5;124m'\u001b[39m, \u001b[38;5;124m'\u001b[39m\u001b[38;5;124mParth\u001b[39m\u001b[38;5;124m'\u001b[39m, \u001b[38;5;124m'\u001b[39m\u001b[38;5;124mPrakhar\u001b[39m\u001b[38;5;124m'\u001b[39m]\n\u001b[1;32m----> 2\u001b[0m \u001b[38;5;28mprint\u001b[39m(\u001b[43mrandom\u001b[49m\u001b[38;5;241m.\u001b[39mchoice(m))\n",
      "\u001b[1;31mNameError\u001b[0m: name 'random' is not defined"
     ]
    }
   ],
   "source": [
    "m = ['Nishant', 'Parth', 'Prakhar']\n",
    "print(random.choice(m))"
   ]
  },
  {
   "cell_type": "code",
   "execution_count": 7,
   "id": "9a35a3d6-8dd9-48e3-a69b-a540c60f99b3",
   "metadata": {},
   "outputs": [
    {
     "name": "stdout",
     "output_type": "stream",
     "text": [
      "Prakhar\n"
     ]
    }
   ],
   "source": [
    "import random\n",
    "m = ['Nishant', 'Prakhar', 'Parth']\n",
    "print(random.choice(m))"
   ]
  },
  {
   "cell_type": "code",
   "execution_count": null,
   "id": "28aff9a1-e816-4597-9b8b-06d037fda405",
   "metadata": {},
   "outputs": [],
   "source": []
  }
 ],
 "metadata": {
  "kernelspec": {
   "display_name": "Python 3 (ipykernel)",
   "language": "python",
   "name": "python3"
  },
  "language_info": {
   "codemirror_mode": {
    "name": "ipython",
    "version": 3
   },
   "file_extension": ".py",
   "mimetype": "text/x-python",
   "name": "python",
   "nbconvert_exporter": "python",
   "pygments_lexer": "ipython3",
   "version": "3.9.12"
  }
 },
 "nbformat": 4,
 "nbformat_minor": 5
}
